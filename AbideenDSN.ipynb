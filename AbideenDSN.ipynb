{
 "cells": [
  {
   "cell_type": "code",
   "execution_count": 108,
   "metadata": {
    "colab": {},
    "colab_type": "code",
    "id": "elsEjDk_p8JG"
   },
   "outputs": [],
   "source": [
    "import pandas as pd\n",
    "import numpy as np\n",
    "pd.set_option('display.max_columns', None)\n",
    "\n",
    "import seaborn as sns\n",
    "import matplotlib.pyplot as plt\n",
    "\n",
    "from sklearn.model_selection import train_test_split\n",
    "from sklearn.preprocessing import StandardScaler, RobustScaler, MinMaxScaler\n",
    "from sklearn.feature_selection import VarianceThreshold"
   ]
  },
  {
   "cell_type": "code",
   "execution_count": 109,
   "metadata": {
    "colab": {
     "base_uri": "https://localhost:8080/",
     "height": 224
    },
    "colab_type": "code",
    "id": "5LB5n36IqR-R",
    "outputId": "d804191e-ad36-4ab5-8ff3-a14048c40b96"
   },
   "outputs": [
    {
     "data": {
      "text/html": [
       "<div>\n",
       "<style scoped>\n",
       "    .dataframe tbody tr th:only-of-type {\n",
       "        vertical-align: middle;\n",
       "    }\n",
       "\n",
       "    .dataframe tbody tr th {\n",
       "        vertical-align: top;\n",
       "    }\n",
       "\n",
       "    .dataframe thead th {\n",
       "        text-align: right;\n",
       "    }\n",
       "</style>\n",
       "<table border=\"1\" class=\"dataframe\">\n",
       "  <thead>\n",
       "    <tr style=\"text-align: right;\">\n",
       "      <th></th>\n",
       "      <th>Applicant_ID</th>\n",
       "      <th>form_field1</th>\n",
       "      <th>form_field2</th>\n",
       "      <th>form_field3</th>\n",
       "      <th>form_field4</th>\n",
       "      <th>form_field5</th>\n",
       "      <th>form_field6</th>\n",
       "      <th>form_field7</th>\n",
       "      <th>form_field8</th>\n",
       "      <th>form_field9</th>\n",
       "      <th>form_field10</th>\n",
       "      <th>form_field11</th>\n",
       "      <th>form_field12</th>\n",
       "      <th>form_field13</th>\n",
       "      <th>form_field14</th>\n",
       "      <th>form_field15</th>\n",
       "      <th>form_field16</th>\n",
       "      <th>form_field17</th>\n",
       "      <th>form_field18</th>\n",
       "      <th>form_field19</th>\n",
       "      <th>form_field20</th>\n",
       "      <th>form_field21</th>\n",
       "      <th>form_field22</th>\n",
       "      <th>form_field23</th>\n",
       "      <th>form_field24</th>\n",
       "      <th>form_field25</th>\n",
       "      <th>form_field26</th>\n",
       "      <th>form_field27</th>\n",
       "      <th>form_field28</th>\n",
       "      <th>form_field29</th>\n",
       "      <th>form_field30</th>\n",
       "      <th>form_field31</th>\n",
       "      <th>form_field32</th>\n",
       "      <th>form_field33</th>\n",
       "      <th>form_field34</th>\n",
       "      <th>form_field35</th>\n",
       "      <th>form_field36</th>\n",
       "      <th>form_field37</th>\n",
       "      <th>form_field38</th>\n",
       "      <th>form_field39</th>\n",
       "      <th>form_field40</th>\n",
       "      <th>form_field41</th>\n",
       "      <th>form_field42</th>\n",
       "      <th>form_field43</th>\n",
       "      <th>form_field44</th>\n",
       "      <th>form_field45</th>\n",
       "      <th>form_field46</th>\n",
       "      <th>form_field47</th>\n",
       "      <th>form_field48</th>\n",
       "      <th>form_field49</th>\n",
       "      <th>form_field50</th>\n",
       "      <th>default_status</th>\n",
       "    </tr>\n",
       "  </thead>\n",
       "  <tbody>\n",
       "    <tr>\n",
       "      <td>0</td>\n",
       "      <td>Apcnt_1000000</td>\n",
       "      <td>3436.0</td>\n",
       "      <td>0.28505</td>\n",
       "      <td>1.6560</td>\n",
       "      <td>0.0</td>\n",
       "      <td>0.000</td>\n",
       "      <td>0.0</td>\n",
       "      <td>10689720.0</td>\n",
       "      <td>252072.0</td>\n",
       "      <td>4272776.0</td>\n",
       "      <td>11333126.0</td>\n",
       "      <td>4397256.0</td>\n",
       "      <td>2301324.0</td>\n",
       "      <td>7875694.0</td>\n",
       "      <td>96375139</td>\n",
       "      <td>112181765.0</td>\n",
       "      <td>1.0</td>\n",
       "      <td>1.0</td>\n",
       "      <td>1.0</td>\n",
       "      <td>3.0</td>\n",
       "      <td>3.0</td>\n",
       "      <td>134.655</td>\n",
       "      <td>NaN</td>\n",
       "      <td>NaN</td>\n",
       "      <td>134.655</td>\n",
       "      <td>4000.5</td>\n",
       "      <td>17064.0</td>\n",
       "      <td>11376.0</td>\n",
       "      <td>60.0</td>\n",
       "      <td>17064.0</td>\n",
       "      <td>5962.0</td>\n",
       "      <td>NaN</td>\n",
       "      <td>1052.0</td>\n",
       "      <td>8.0000</td>\n",
       "      <td>2.0</td>\n",
       "      <td>NaN</td>\n",
       "      <td>12.0</td>\n",
       "      <td>12.0</td>\n",
       "      <td>4.0</td>\n",
       "      <td>0.0</td>\n",
       "      <td>NaN</td>\n",
       "      <td>NaN</td>\n",
       "      <td>0.392854</td>\n",
       "      <td>2.02</td>\n",
       "      <td>0.711632</td>\n",
       "      <td>0.0</td>\n",
       "      <td>0.0</td>\n",
       "      <td>charge</td>\n",
       "      <td>NaN</td>\n",
       "      <td>1.129518</td>\n",
       "      <td>0.044335</td>\n",
       "      <td>no</td>\n",
       "    </tr>\n",
       "    <tr>\n",
       "      <td>1</td>\n",
       "      <td>Apcnt_1000004</td>\n",
       "      <td>3456.0</td>\n",
       "      <td>0.67400</td>\n",
       "      <td>0.2342</td>\n",
       "      <td>0.0</td>\n",
       "      <td>0.000</td>\n",
       "      <td>0.0</td>\n",
       "      <td>898979.0</td>\n",
       "      <td>497531.0</td>\n",
       "      <td>9073814.0</td>\n",
       "      <td>2533168.0</td>\n",
       "      <td>244292.0</td>\n",
       "      <td>3982971.0</td>\n",
       "      <td>2141445.0</td>\n",
       "      <td>28141427</td>\n",
       "      <td>45169902.0</td>\n",
       "      <td>1.0</td>\n",
       "      <td>1.0</td>\n",
       "      <td>1.0</td>\n",
       "      <td>2.0</td>\n",
       "      <td>2.0</td>\n",
       "      <td>109.230</td>\n",
       "      <td>11385.24</td>\n",
       "      <td>14584.29</td>\n",
       "      <td>86.685</td>\n",
       "      <td>4161.0</td>\n",
       "      <td>13413.0</td>\n",
       "      <td>8942.0</td>\n",
       "      <td>304.0</td>\n",
       "      <td>13413.0</td>\n",
       "      <td>5780.0</td>\n",
       "      <td>NaN</td>\n",
       "      <td>2554.0</td>\n",
       "      <td>17.5000</td>\n",
       "      <td>0.0</td>\n",
       "      <td>0.0</td>\n",
       "      <td>16.0</td>\n",
       "      <td>24.0</td>\n",
       "      <td>8.0</td>\n",
       "      <td>0.0</td>\n",
       "      <td>NaN</td>\n",
       "      <td>NaN</td>\n",
       "      <td>0.314281</td>\n",
       "      <td>8.08</td>\n",
       "      <td>0.183584</td>\n",
       "      <td>NaN</td>\n",
       "      <td>0.0</td>\n",
       "      <td>charge</td>\n",
       "      <td>349.805730</td>\n",
       "      <td>1.620483</td>\n",
       "      <td>0.322436</td>\n",
       "      <td>no</td>\n",
       "    </tr>\n",
       "    <tr>\n",
       "      <td>2</td>\n",
       "      <td>Apcnt_1000008</td>\n",
       "      <td>3276.0</td>\n",
       "      <td>0.53845</td>\n",
       "      <td>3.1510</td>\n",
       "      <td>0.0</td>\n",
       "      <td>6.282</td>\n",
       "      <td>NaN</td>\n",
       "      <td>956940.0</td>\n",
       "      <td>NaN</td>\n",
       "      <td>192944.0</td>\n",
       "      <td>1079864.0</td>\n",
       "      <td>NaN</td>\n",
       "      <td>NaN</td>\n",
       "      <td>0.0</td>\n",
       "      <td>16576457</td>\n",
       "      <td>22452691.0</td>\n",
       "      <td>NaN</td>\n",
       "      <td>NaN</td>\n",
       "      <td>NaN</td>\n",
       "      <td>0.0</td>\n",
       "      <td>0.0</td>\n",
       "      <td>NaN</td>\n",
       "      <td>NaN</td>\n",
       "      <td>NaN</td>\n",
       "      <td>NaN</td>\n",
       "      <td>1597.5</td>\n",
       "      <td>4746.0</td>\n",
       "      <td>3164.0</td>\n",
       "      <td>60.0</td>\n",
       "      <td>15696.0</td>\n",
       "      <td>NaN</td>\n",
       "      <td>14508.0</td>\n",
       "      <td>70.0</td>\n",
       "      <td>0.6666</td>\n",
       "      <td>0.0</td>\n",
       "      <td>NaN</td>\n",
       "      <td>12.0</td>\n",
       "      <td>0.0</td>\n",
       "      <td>6.0</td>\n",
       "      <td>0.0</td>\n",
       "      <td>149.6805</td>\n",
       "      <td>NaN</td>\n",
       "      <td>0.162965</td>\n",
       "      <td>18.18</td>\n",
       "      <td>0.791136</td>\n",
       "      <td>0.0</td>\n",
       "      <td>0.0</td>\n",
       "      <td>charge</td>\n",
       "      <td>NaN</td>\n",
       "      <td>1.513370</td>\n",
       "      <td>0.011640</td>\n",
       "      <td>yes</td>\n",
       "    </tr>\n",
       "    <tr>\n",
       "      <td>3</td>\n",
       "      <td>Apcnt_1000012</td>\n",
       "      <td>3372.0</td>\n",
       "      <td>0.17005</td>\n",
       "      <td>0.5050</td>\n",
       "      <td>0.0</td>\n",
       "      <td>0.000</td>\n",
       "      <td>192166.0</td>\n",
       "      <td>3044703.0</td>\n",
       "      <td>385499.0</td>\n",
       "      <td>3986472.0</td>\n",
       "      <td>3621979.0</td>\n",
       "      <td>NaN</td>\n",
       "      <td>771776.0</td>\n",
       "      <td>1186839.0</td>\n",
       "      <td>48187375</td>\n",
       "      <td>136297820.0</td>\n",
       "      <td>0.0</td>\n",
       "      <td>0.0</td>\n",
       "      <td>0.0</td>\n",
       "      <td>1.0</td>\n",
       "      <td>1.0</td>\n",
       "      <td>120.120</td>\n",
       "      <td>8580.00</td>\n",
       "      <td>0.00</td>\n",
       "      <td>85.800</td>\n",
       "      <td>1701.0</td>\n",
       "      <td>4014.0</td>\n",
       "      <td>2676.0</td>\n",
       "      <td>60.0</td>\n",
       "      <td>11679.0</td>\n",
       "      <td>NaN</td>\n",
       "      <td>NaN</td>\n",
       "      <td>522.0</td>\n",
       "      <td>7.8334</td>\n",
       "      <td>1.0</td>\n",
       "      <td>1.0</td>\n",
       "      <td>4.0</td>\n",
       "      <td>8.0</td>\n",
       "      <td>4.0</td>\n",
       "      <td>1.0</td>\n",
       "      <td>NaN</td>\n",
       "      <td>NaN</td>\n",
       "      <td>0.488884</td>\n",
       "      <td>2.02</td>\n",
       "      <td>0.685168</td>\n",
       "      <td>NaN</td>\n",
       "      <td>0.0</td>\n",
       "      <td>charge</td>\n",
       "      <td>89.940100</td>\n",
       "      <td>0.664452</td>\n",
       "      <td>0.082729</td>\n",
       "      <td>no</td>\n",
       "    </tr>\n",
       "    <tr>\n",
       "      <td>4</td>\n",
       "      <td>Apcnt_1000016</td>\n",
       "      <td>3370.0</td>\n",
       "      <td>0.77270</td>\n",
       "      <td>1.1010</td>\n",
       "      <td>0.0</td>\n",
       "      <td>0.000</td>\n",
       "      <td>1556.0</td>\n",
       "      <td>214728.0</td>\n",
       "      <td>214728.0</td>\n",
       "      <td>1284089.0</td>\n",
       "      <td>361770.0</td>\n",
       "      <td>396391.0</td>\n",
       "      <td>818456.0</td>\n",
       "      <td>511535.0</td>\n",
       "      <td>28141427</td>\n",
       "      <td>15292757.0</td>\n",
       "      <td>0.0</td>\n",
       "      <td>0.0</td>\n",
       "      <td>0.0</td>\n",
       "      <td>3.0</td>\n",
       "      <td>3.0</td>\n",
       "      <td>104.535</td>\n",
       "      <td>8360.19</td>\n",
       "      <td>10326.45</td>\n",
       "      <td>115.335</td>\n",
       "      <td>1551.0</td>\n",
       "      <td>3285.0</td>\n",
       "      <td>2190.0</td>\n",
       "      <td>60.0</td>\n",
       "      <td>19437.0</td>\n",
       "      <td>12958.0</td>\n",
       "      <td>5202.0</td>\n",
       "      <td>272.0</td>\n",
       "      <td>1.0000</td>\n",
       "      <td>0.0</td>\n",
       "      <td>0.0</td>\n",
       "      <td>24.0</td>\n",
       "      <td>2.0</td>\n",
       "      <td>24.0</td>\n",
       "      <td>0.0</td>\n",
       "      <td>150.0135</td>\n",
       "      <td>NaN</td>\n",
       "      <td>0.275000</td>\n",
       "      <td>12.12</td>\n",
       "      <td>0.438168</td>\n",
       "      <td>0.0</td>\n",
       "      <td>0.0</td>\n",
       "      <td>charge</td>\n",
       "      <td>97.887502</td>\n",
       "      <td>1.427891</td>\n",
       "      <td>0.045630</td>\n",
       "      <td>no</td>\n",
       "    </tr>\n",
       "  </tbody>\n",
       "</table>\n",
       "</div>"
      ],
      "text/plain": [
       "    Applicant_ID  form_field1  form_field2  form_field3  form_field4  \\\n",
       "0  Apcnt_1000000       3436.0      0.28505       1.6560          0.0   \n",
       "1  Apcnt_1000004       3456.0      0.67400       0.2342          0.0   \n",
       "2  Apcnt_1000008       3276.0      0.53845       3.1510          0.0   \n",
       "3  Apcnt_1000012       3372.0      0.17005       0.5050          0.0   \n",
       "4  Apcnt_1000016       3370.0      0.77270       1.1010          0.0   \n",
       "\n",
       "   form_field5  form_field6  form_field7  form_field8  form_field9  \\\n",
       "0        0.000          0.0   10689720.0     252072.0    4272776.0   \n",
       "1        0.000          0.0     898979.0     497531.0    9073814.0   \n",
       "2        6.282          NaN     956940.0          NaN     192944.0   \n",
       "3        0.000     192166.0    3044703.0     385499.0    3986472.0   \n",
       "4        0.000       1556.0     214728.0     214728.0    1284089.0   \n",
       "\n",
       "   form_field10  form_field11  form_field12  form_field13  form_field14  \\\n",
       "0    11333126.0     4397256.0     2301324.0     7875694.0      96375139   \n",
       "1     2533168.0      244292.0     3982971.0     2141445.0      28141427   \n",
       "2     1079864.0           NaN           NaN           0.0      16576457   \n",
       "3     3621979.0           NaN      771776.0     1186839.0      48187375   \n",
       "4      361770.0      396391.0      818456.0      511535.0      28141427   \n",
       "\n",
       "   form_field15  form_field16  form_field17  form_field18  form_field19  \\\n",
       "0   112181765.0           1.0           1.0           1.0           3.0   \n",
       "1    45169902.0           1.0           1.0           1.0           2.0   \n",
       "2    22452691.0           NaN           NaN           NaN           0.0   \n",
       "3   136297820.0           0.0           0.0           0.0           1.0   \n",
       "4    15292757.0           0.0           0.0           0.0           3.0   \n",
       "\n",
       "   form_field20  form_field21  form_field22  form_field23  form_field24  \\\n",
       "0           3.0       134.655           NaN           NaN       134.655   \n",
       "1           2.0       109.230      11385.24      14584.29        86.685   \n",
       "2           0.0           NaN           NaN           NaN           NaN   \n",
       "3           1.0       120.120       8580.00          0.00        85.800   \n",
       "4           3.0       104.535       8360.19      10326.45       115.335   \n",
       "\n",
       "   form_field25  form_field26  form_field27  form_field28  form_field29  \\\n",
       "0        4000.5       17064.0       11376.0          60.0       17064.0   \n",
       "1        4161.0       13413.0        8942.0         304.0       13413.0   \n",
       "2        1597.5        4746.0        3164.0          60.0       15696.0   \n",
       "3        1701.0        4014.0        2676.0          60.0       11679.0   \n",
       "4        1551.0        3285.0        2190.0          60.0       19437.0   \n",
       "\n",
       "   form_field30  form_field31  form_field32  form_field33  form_field34  \\\n",
       "0        5962.0           NaN        1052.0        8.0000           2.0   \n",
       "1        5780.0           NaN        2554.0       17.5000           0.0   \n",
       "2           NaN       14508.0          70.0        0.6666           0.0   \n",
       "3           NaN           NaN         522.0        7.8334           1.0   \n",
       "4       12958.0        5202.0         272.0        1.0000           0.0   \n",
       "\n",
       "   form_field35  form_field36  form_field37  form_field38  form_field39  \\\n",
       "0           NaN          12.0          12.0           4.0           0.0   \n",
       "1           0.0          16.0          24.0           8.0           0.0   \n",
       "2           NaN          12.0           0.0           6.0           0.0   \n",
       "3           1.0           4.0           8.0           4.0           1.0   \n",
       "4           0.0          24.0           2.0          24.0           0.0   \n",
       "\n",
       "   form_field40  form_field41  form_field42  form_field43  form_field44  \\\n",
       "0           NaN           NaN      0.392854          2.02      0.711632   \n",
       "1           NaN           NaN      0.314281          8.08      0.183584   \n",
       "2      149.6805           NaN      0.162965         18.18      0.791136   \n",
       "3           NaN           NaN      0.488884          2.02      0.685168   \n",
       "4      150.0135           NaN      0.275000         12.12      0.438168   \n",
       "\n",
       "   form_field45  form_field46 form_field47  form_field48  form_field49  \\\n",
       "0           0.0           0.0       charge           NaN      1.129518   \n",
       "1           NaN           0.0       charge    349.805730      1.620483   \n",
       "2           0.0           0.0       charge           NaN      1.513370   \n",
       "3           NaN           0.0       charge     89.940100      0.664452   \n",
       "4           0.0           0.0       charge     97.887502      1.427891   \n",
       "\n",
       "   form_field50 default_status  \n",
       "0      0.044335             no  \n",
       "1      0.322436             no  \n",
       "2      0.011640            yes  \n",
       "3      0.082729             no  \n",
       "4      0.045630             no  "
      ]
     },
     "execution_count": 109,
     "metadata": {},
     "output_type": "execute_result"
    }
   ],
   "source": [
    "train_data = pd.read_csv('Train.csv')\n",
    "test_data = pd.read_csv('Test.csv')\n",
    "train_data.head()"
   ]
  },
  {
   "cell_type": "markdown",
   "metadata": {
    "colab_type": "text",
    "id": "tix95p1xqV7D"
   },
   "source": [
    "## Exploratory Data Analysis"
   ]
  },
  {
   "cell_type": "code",
   "execution_count": 110,
   "metadata": {
    "colab": {
     "base_uri": "https://localhost:8080/",
     "height": 51
    },
    "colab_type": "code",
    "id": "D7bZjaoSqY-Q",
    "outputId": "f21b053d-fd95-4cae-f432-29bbde7b44a4"
   },
   "outputs": [
    {
     "name": "stdout",
     "output_type": "stream",
     "text": [
      "Train data shape (56000, 52)\n",
      "Test data shape (24000, 51)\n"
     ]
    }
   ],
   "source": [
    "print('Train data shape', train_data.shape)\n",
    "print('Test data shape', test_data.shape)"
   ]
  },
  {
   "cell_type": "code",
   "execution_count": 111,
   "metadata": {
    "colab": {
     "base_uri": "https://localhost:8080/",
     "height": 68
    },
    "colab_type": "code",
    "id": "mJQR44sfqb9R",
    "outputId": "b4c641ec-6e7b-4160-fbd4-5dbd02d02728"
   },
   "outputs": [
    {
     "data": {
      "text/plain": [
       "no     42285\n",
       "yes    13715\n",
       "Name: default_status, dtype: int64"
      ]
     },
     "execution_count": 111,
     "metadata": {},
     "output_type": "execute_result"
    }
   ],
   "source": [
    "train_data.default_status.value_counts()"
   ]
  },
  {
   "cell_type": "markdown",
   "metadata": {
    "colab_type": "text",
    "id": "XP1_XNb-qhNC"
   },
   "source": [
    "## Fill the missing values"
   ]
  },
  {
   "cell_type": "code",
   "execution_count": 112,
   "metadata": {
    "colab": {},
    "colab_type": "code",
    "id": "I-mIMFDrqcKN"
   },
   "outputs": [],
   "source": [
    "train_data = train_data.fillna(-999)\n",
    "test_data = test_data.fillna(-999)"
   ]
  },
  {
   "cell_type": "markdown",
   "metadata": {
    "colab_type": "text",
    "id": "mHIdiPbbq-95"
   },
   "source": [
    "### Convert the categorical features to binary"
   ]
  },
  {
   "cell_type": "code",
   "execution_count": 113,
   "metadata": {
    "colab": {},
    "colab_type": "code",
    "id": "0WJvkfemqcpS"
   },
   "outputs": [],
   "source": [
    "from sklearn.preprocessing import LabelEncoder\n",
    "enc = LabelEncoder()\n",
    "train_data[\"form_field47\"] = enc.fit_transform(train_data[\"form_field47\"])\n",
    "train_data[\"default_status\"] = enc.fit_transform(train_data[\"default_status\"])\n",
    "\n",
    "test_data[\"form_field47\"] = enc.fit_transform(test_data[\"form_field47\"])"
   ]
  },
  {
   "cell_type": "code",
   "execution_count": 114,
   "metadata": {
    "colab": {},
    "colab_type": "code",
    "id": "toPV3xEYqcmk"
   },
   "outputs": [],
   "source": [
    "#picking X and y\n",
    "X = train_data.drop([\"Applicant_ID\", \"default_status\"], axis =1)\n",
    "y = train_data[\"default_status\"]\n",
    "\n",
    "X_test = test_data.drop([\"Applicant_ID\"], axis = 1)"
   ]
  },
  {
   "cell_type": "markdown",
   "metadata": {
    "colab_type": "text",
    "id": "m3j33Bedrc05"
   },
   "source": [
    "## Split data into train and validation sets"
   ]
  },
  {
   "cell_type": "code",
   "execution_count": 115,
   "metadata": {
    "colab": {
     "base_uri": "https://localhost:8080/",
     "height": 34
    },
    "colab_type": "code",
    "id": "Wwxwt8eiqcG5",
    "outputId": "2951030c-e5ed-48e6-e4a8-374f722b9df1"
   },
   "outputs": [
    {
     "data": {
      "text/plain": [
       "((44800, 50), (11200, 50))"
      ]
     },
     "execution_count": 115,
     "metadata": {},
     "output_type": "execute_result"
    }
   ],
   "source": [
    "from sklearn.model_selection import train_test_split  #change test size from .20 to .28\n",
    "\n",
    "X_train, X_val, y_train, y_val = train_test_split(X, y, test_size = 0.20, stratify = y, random_state = 42)\n",
    "\n",
    "X_train.shape, X_val.shape"
   ]
  },
  {
   "cell_type": "code",
   "execution_count": 116,
   "metadata": {
    "colab": {
     "base_uri": "https://localhost:8080/",
     "height": 34
    },
    "colab_type": "code",
    "id": "FwT9_oXBrq3J",
    "outputId": "74af60ee-2bda-40df-c020-b3cafe2a31c1"
   },
   "outputs": [
    {
     "data": {
      "text/plain": [
       "((44800, 49), (11200, 49), (24000, 49))"
      ]
     },
     "execution_count": 116,
     "metadata": {},
     "output_type": "execute_result"
    }
   ],
   "source": [
    "filter = VarianceThreshold(0.5)\n",
    "X_train = filter.fit_transform(X_train)\n",
    "X_val = filter.transform(X_val)\n",
    "X_test = filter.transform(X_test)\n",
    "\n",
    "X_train.shape, X_val.shape, X_test.shape"
   ]
  },
  {
   "cell_type": "code",
   "execution_count": 117,
   "metadata": {
    "colab": {},
    "colab_type": "code",
    "id": "vg-01hJprrEj"
   },
   "outputs": [],
   "source": [
    "scaler = StandardScaler()   # MinMaxScaler\n",
    "X_train = scaler.fit_transform(X_train)\n",
    "X_val = scaler.transform(X_val)\n",
    "X_test = scaler.transform(X_test)"
   ]
  },
  {
   "cell_type": "markdown",
   "metadata": {
    "colab_type": "text",
    "id": "XpLIhXD4r0-E"
   },
   "source": [
    "## Model Building"
   ]
  },
  {
   "cell_type": "code",
   "execution_count": 118,
   "metadata": {},
   "outputs": [],
   "source": [
    "import random"
   ]
  },
  {
   "cell_type": "code",
   "execution_count": 119,
   "metadata": {},
   "outputs": [],
   "source": [
    "seed = 1994\n",
    "random.seed(seed)\n",
    "np.random.seed(seed)"
   ]
  },
  {
   "cell_type": "code",
   "execution_count": 120,
   "metadata": {},
   "outputs": [],
   "source": [
    "def crossVal(model):\n",
    "    avg = 0\n",
    "    for fold, (tr, te) in enumerate(skfolds.split(xtrainval, ytrainval), 1):\n",
    "        train_x, test_x = xtrainval.iloc[tr], xtrainval.iloc[te]\n",
    "        train_y, test_y = ytrainval.iloc[tr], ytrainval.iloc[te]\n",
    "        \n",
    "        model.fit(train_x, train_y, eval_set=[(train_x, train_y), (test_x, test_y)], \n",
    "                  early_stopping_rounds=200, verbose=False)\n",
    "        preds = model.predict_proba(test_x)[:,1]\n",
    "        logloss = log_loss(test_y, preds)\n",
    "        print(f'Fold {fold}: Logloss: {logloss}')\n",
    "        avg += logloss\n",
    "    free = gc.collect()\n",
    "    print(f'Avg Logloss: {avg/fold}')"
   ]
  },
  {
   "cell_type": "code",
   "execution_count": 121,
   "metadata": {},
   "outputs": [],
   "source": [
    "def crossValPred(model):\n",
    "    avg = 0\n",
    "    test_scores = []\n",
    "    for fold, (tr, te) in enumerate(skfolds.split(X, y), 1):\n",
    "        train_x, test_x = X.iloc[tr], X.iloc[te]\n",
    "        train_y, test_y = y.iloc[tr], y.iloc[te]\n",
    "        \n",
    "        model.fit(train_x, train_y, eval_set=[(train_x, train_y), (test_x, test_y)], \n",
    "                  early_stopping_rounds=200, verbose=False)\n",
    "        \n",
    "        preds = model.predict_proba(test_x)[:, 1]\n",
    "        logloss = log_loss(test_y, preds)\n",
    "        print(f'Fold {fold}: Logloss: {logloss}')\n",
    "        avg += logloss\n",
    "        \n",
    "        \n",
    "        test_pred = model.predict_proba(test_c)[:,1]\n",
    "        test_scores.append(test_pred)\n",
    "    print(f'Avg Logloss: {avg/fold}')\n",
    "    free = gc.collect()\n",
    "    return np.mean(test_scores, 0)"
   ]
  },
  {
   "cell_type": "code",
   "execution_count": 122,
   "metadata": {},
   "outputs": [],
   "source": [
    "def plot_graph(model, xtr, ytr, ax=None):\n",
    "    fig, ax = plt.subplots(1,2,figsize=(10,4))\n",
    "    plot_confusion_matrix(model, xtr, ytr, ax=ax[0])\n",
    "    ax[0].grid(False)\n",
    "    plot_roc_curve(model, xtr, ytr, ax=ax[1])"
   ]
  },
  {
   "cell_type": "code",
   "execution_count": 123,
   "metadata": {},
   "outputs": [],
   "source": [
    "xtrainval, xtest, ytrainval, ytest = train_test_split(X, y, test_size=0.18, stratify=y, random_state=seed)\n",
    "xtrain, xval, ytrain, yval = train_test_split(xtrainval, ytrainval, test_size=0.20, stratify=ytrainval, random_state=seed)"
   ]
  },
  {
   "cell_type": "code",
   "execution_count": 124,
   "metadata": {},
   "outputs": [
    {
     "data": {
      "text/plain": [
       "((36736, 50), (9184, 50), (10080, 50))"
      ]
     },
     "execution_count": 124,
     "metadata": {},
     "output_type": "execute_result"
    }
   ],
   "source": [
    "xtrain.shape, xval.shape, xtest.shape"
   ]
  },
  {
   "cell_type": "code",
   "execution_count": 125,
   "metadata": {},
   "outputs": [
    {
     "name": "stdout",
     "output_type": "stream",
     "text": [
      "done\n"
     ]
    }
   ],
   "source": [
    "import lightgbm as lgb\n",
    "from sklearn.model_selection import StratifiedKFold\n",
    "from sklearn.metrics import log_loss, plot_confusion_matrix, plot_roc_curve\n",
    "print(\"done\")"
   ]
  },
  {
   "cell_type": "code",
   "execution_count": 126,
   "metadata": {},
   "outputs": [],
   "source": [
    "import catboost as cat"
   ]
  },
  {
   "cell_type": "code",
   "execution_count": 127,
   "metadata": {},
   "outputs": [],
   "source": [
    "cat_cols = train_data.select_dtypes('object').columns.drop(['Applicant_ID'], 1)\n"
   ]
  },
  {
   "cell_type": "code",
   "execution_count": 128,
   "metadata": {},
   "outputs": [],
   "source": [
    "\n",
    "catm = cat.CatBoostClassifier(random_seed=seed, cat_features=cat_cols, bootstrap_type='Bernoulli', \n",
    "                              iterations=1000, silent=True, eval_metric='Logloss')"
   ]
  },
  {
   "cell_type": "code",
   "execution_count": 129,
   "metadata": {},
   "outputs": [],
   "source": [
    "skfolds= StratifiedKFold(n_splits=5, random_state=seed, shuffle=True)"
   ]
  },
  {
   "cell_type": "code",
   "execution_count": 130,
   "metadata": {},
   "outputs": [],
   "source": [
    "\n",
    "xtrainval, xtest, ytrainval, ytest = train_test_split(X, y, test_size=0.18, stratify=y, random_state=seed)\n",
    "xtrain, xval, ytrain, yval = train_test_split(xtrainval, ytrainval, test_size=0.20, stratify=ytrainval, random_state=seed)"
   ]
  },
  {
   "cell_type": "code",
   "execution_count": 131,
   "metadata": {},
   "outputs": [],
   "source": [
    "\n",
    "catm = cat.CatBoostClassifier(random_seed=seed, cat_features=cat_cols, bootstrap_type='Bernoulli', \n",
    "                              iterations=1000, silent=True, eval_metric='Logloss')"
   ]
  },
  {
   "cell_type": "code",
   "execution_count": 132,
   "metadata": {},
   "outputs": [
    {
     "name": "stdout",
     "output_type": "stream",
     "text": [
      "Learning rate set to 0.077177\n",
      "0:\tlearn: 0.6450292\ttest: 0.6453607\tbest: 0.6453607 (0)\ttotal: 58.2ms\tremaining: 58.2s\n",
      "200:\tlearn: 0.3811010\ttest: 0.4085066\tbest: 0.4084831 (199)\ttotal: 9.26s\tremaining: 36.8s\n",
      "400:\tlearn: 0.3525937\ttest: 0.4090435\tbest: 0.4079676 (249)\ttotal: 18.4s\tremaining: 27.5s\n",
      "Stopped by overfitting detector  (350 iterations wait)\n",
      "\n",
      "bestTest = 0.4079676266\n",
      "bestIteration = 249\n",
      "\n",
      "Shrink model to first 250 iterations.\n",
      "Wall time: 29.4 s\n"
     ]
    },
    {
     "data": {
      "text/plain": [
       "<catboost.core.CatBoostClassifier at 0x1905e096f88>"
      ]
     },
     "execution_count": 132,
     "metadata": {},
     "output_type": "execute_result"
    }
   ],
   "source": [
    "%%time\n",
    "catm.fit(xtrain, ytrain, eval_set=[(xval,yval)], early_stopping_rounds=350, verbose=200); #stopping from 350 to 300"
   ]
  },
  {
   "cell_type": "code",
   "execution_count": 133,
   "metadata": {},
   "outputs": [],
   "source": [
    "import os, gc, warnings\n",
    "warnings.filterwarnings('ignore')\n"
   ]
  },
  {
   "cell_type": "code",
   "execution_count": 134,
   "metadata": {},
   "outputs": [
    {
     "name": "stdout",
     "output_type": "stream",
     "text": [
      "Fold 1: Logloss: 0.415200598550914\n",
      "Fold 2: Logloss: 0.4076531913946591\n",
      "Fold 3: Logloss: 0.40836322115753537\n",
      "Fold 4: Logloss: 0.40089085659113066\n",
      "Fold 5: Logloss: 0.40233139441861854\n",
      "Avg Logloss: 0.4068878524225715\n"
     ]
    }
   ],
   "source": [
    "crossVal(catm)"
   ]
  },
  {
   "cell_type": "code",
   "execution_count": 135,
   "metadata": {},
   "outputs": [
    {
     "data": {
      "text/plain": [
       "22"
      ]
     },
     "execution_count": 135,
     "metadata": {},
     "output_type": "execute_result"
    }
   ],
   "source": [
    "gc.collect()"
   ]
  },
  {
   "cell_type": "code",
   "execution_count": 136,
   "metadata": {},
   "outputs": [],
   "source": [
    "test_c = test_data.drop(['Applicant_ID'], 1)"
   ]
  },
  {
   "cell_type": "code",
   "execution_count": 137,
   "metadata": {},
   "outputs": [
    {
     "name": "stdout",
     "output_type": "stream",
     "text": [
      "Fold 1: Logloss: 0.40795356317427\n",
      "Fold 2: Logloss: 0.4045227484708526\n",
      "Fold 3: Logloss: 0.40332120094547697\n",
      "Fold 4: Logloss: 0.40553864612585794\n",
      "Fold 5: Logloss: 0.40825247246659907\n",
      "Avg Logloss: 0.40591772623661126\n"
     ]
    }
   ],
   "source": [
    "cat_pred = crossValPred(catm)\n"
   ]
  },
  {
   "cell_type": "markdown",
   "metadata": {},
   "source": [
    "# LGB\n"
   ]
  },
  {
   "cell_type": "code",
   "execution_count": 138,
   "metadata": {},
   "outputs": [],
   "source": [
    "xtrainval, xtest, ytrainval, ytest = train_test_split(X, y, test_size=0.18, stratify=y, random_state=seed)\n",
    "xtrain, xval, ytrain, yval = train_test_split(xtrainval, ytrainval, test_size=0.28, stratify=ytrainval, random_state=seed)\n"
   ]
  },
  {
   "cell_type": "code",
   "execution_count": 139,
   "metadata": {},
   "outputs": [],
   "source": [
    "lgbm = lgb.LGBMClassifier(random_state=seed, n_estimators=1000, metric='binary_logloss', learning_rate=0.04, subsample=0.7,\n",
    "                         colsample_bytree=0.8, num_leaves=64, reg_alpha=4, min_child_samples=5,subsample_freq=2)"
   ]
  },
  {
   "cell_type": "code",
   "execution_count": 140,
   "metadata": {},
   "outputs": [
    {
     "name": "stdout",
     "output_type": "stream",
     "text": [
      "Training until validation scores don't improve for 200 rounds\n",
      "[200]\ttraining's binary_logloss: 0.326336\tvalid_1's binary_logloss: 0.412365\n",
      "Early stopping, best iteration is:\n",
      "[167]\ttraining's binary_logloss: 0.337911\tvalid_1's binary_logloss: 0.412005\n"
     ]
    }
   ],
   "source": [
    "lgbm.fit(xtrain, ytrain, eval_set=[(xtrain, ytrain), (xval,yval)], verbose=200, early_stopping_rounds=200);"
   ]
  },
  {
   "cell_type": "code",
   "execution_count": 141,
   "metadata": {},
   "outputs": [
    {
     "name": "stdout",
     "output_type": "stream",
     "text": [
      "Fold 1: Logloss: 0.4164871267322893\n",
      "Fold 2: Logloss: 0.40713020202436345\n",
      "Fold 3: Logloss: 0.41067884124274906\n",
      "Fold 4: Logloss: 0.4012310255321854\n",
      "Fold 5: Logloss: 0.4051385074063975\n",
      "Avg Logloss: 0.408133140587597\n"
     ]
    }
   ],
   "source": [
    "crossVal(lgbm)"
   ]
  },
  {
   "cell_type": "code",
   "execution_count": 142,
   "metadata": {},
   "outputs": [
    {
     "data": {
      "text/plain": [
       "22"
      ]
     },
     "execution_count": 142,
     "metadata": {},
     "output_type": "execute_result"
    }
   ],
   "source": [
    "\n",
    "gc.collect()"
   ]
  },
  {
   "cell_type": "code",
   "execution_count": 143,
   "metadata": {},
   "outputs": [
    {
     "name": "stdout",
     "output_type": "stream",
     "text": [
      "Fold 1: Logloss: 0.4079291342537728\n",
      "Fold 2: Logloss: 0.4059193993137731\n",
      "Fold 3: Logloss: 0.40352824087943223\n",
      "Fold 4: Logloss: 0.4062568066075599\n",
      "Fold 5: Logloss: 0.40962283433407737\n",
      "Avg Logloss: 0.40665128307772314\n"
     ]
    }
   ],
   "source": [
    "lgb_pred = crossValPred(lgbm)"
   ]
  },
  {
   "cell_type": "code",
   "execution_count": 144,
   "metadata": {},
   "outputs": [],
   "source": [
    "blend = (0.6 * lgb_pred + 0.4)"
   ]
  },
  {
   "cell_type": "code",
   "execution_count": 145,
   "metadata": {},
   "outputs": [],
   "source": [
    "\n",
    "test_id = test_data.Applicant_ID"
   ]
  },
  {
   "cell_type": "code",
   "execution_count": 146,
   "metadata": {},
   "outputs": [],
   "source": [
    "lgb_df =  pd.DataFrame({'Applicant_ID' : test_id, 'default_status' : lgb_pred})\n",
    "cat_df =  pd.DataFrame({'Applicant_ID' : test_id, 'default_status' : cat_pred})\n",
    "blend_df =  pd.DataFrame({'Applicant_ID' : test_id, 'default_status' : blend})"
   ]
  },
  {
   "cell_type": "code",
   "execution_count": 147,
   "metadata": {},
   "outputs": [],
   "source": [
    "lgb_df.to_csv('lgblast.csv', index=False)\n",
    "cat_df.to_csv('catlast.csv', index=False)\n",
    "blend_df.to_csv('blendla.csv', index=False)"
   ]
  },
  {
   "cell_type": "code",
   "execution_count": 149,
   "metadata": {},
   "outputs": [
    {
     "data": {
      "text/plain": [
       "22"
      ]
     },
     "execution_count": 149,
     "metadata": {},
     "output_type": "execute_result"
    }
   ],
   "source": [
    "\n",
    "gc.collect()"
   ]
  },
  {
   "cell_type": "code",
   "execution_count": 153,
   "metadata": {},
   "outputs": [
    {
     "name": "stdout",
     "output_type": "stream",
     "text": [
      "Requirement already satisfied: notebook-as-pdf in c:\\users\\user\\anaconda3\\lib\\site-packages (0.3.1)\n",
      "Requirement already satisfied: PyPDF2 in c:\\users\\user\\anaconda3\\lib\\site-packages (from notebook-as-pdf) (1.26.0)\n",
      "Requirement already satisfied: pyppeteer in c:\\users\\user\\anaconda3\\lib\\site-packages (from notebook-as-pdf) (0.2.2)\n",
      "Requirement already satisfied: nbconvert in c:\\users\\user\\anaconda3\\lib\\site-packages (from notebook-as-pdf) (5.6.0)\n",
      "Requirement already satisfied: tqdm<5.0.0,>=4.42.1 in c:\\users\\user\\anaconda3\\lib\\site-packages (from pyppeteer->notebook-as-pdf) (4.50.0)\n",
      "Requirement already satisfied: pyee<8.0.0,>=7.0.1 in c:\\users\\user\\anaconda3\\lib\\site-packages (from pyppeteer->notebook-as-pdf) (7.0.4)\n",
      "Requirement already satisfied: appdirs<2.0.0,>=1.4.3 in c:\\users\\user\\anaconda3\\lib\\site-packages (from pyppeteer->notebook-as-pdf) (1.4.4)\n",
      "Requirement already satisfied: urllib3<2.0.0,>=1.25.8 in c:\\users\\user\\anaconda3\\lib\\site-packages (from pyppeteer->notebook-as-pdf) (1.25.10)\n",
      "Requirement already satisfied: websockets<9.0,>=8.1 in c:\\users\\user\\anaconda3\\lib\\site-packages (from pyppeteer->notebook-as-pdf) (8.1)\n",
      "Requirement already satisfied: traitlets>=4.2 in c:\\users\\user\\anaconda3\\lib\\site-packages (from nbconvert->notebook-as-pdf) (4.3.3)\n",
      "Requirement already satisfied: jupyter-core in c:\\users\\user\\anaconda3\\lib\\site-packages (from nbconvert->notebook-as-pdf) (4.5.0)\n",
      "Requirement already satisfied: pandocfilters>=1.4.1 in c:\\users\\user\\anaconda3\\lib\\site-packages (from nbconvert->notebook-as-pdf) (1.4.2)\n",
      "Requirement already satisfied: testpath in c:\\users\\user\\anaconda3\\lib\\site-packages (from nbconvert->notebook-as-pdf) (0.4.2)\n",
      "Requirement already satisfied: defusedxml in c:\\users\\user\\anaconda3\\lib\\site-packages (from nbconvert->notebook-as-pdf) (0.6.0)\n",
      "Requirement already satisfied: mistune<2,>=0.8.1 in c:\\users\\user\\anaconda3\\lib\\site-packages (from nbconvert->notebook-as-pdf) (0.8.4)\n",
      "Requirement already satisfied: bleach in c:\\users\\user\\anaconda3\\lib\\site-packages (from nbconvert->notebook-as-pdf) (3.1.0)\n",
      "Requirement already satisfied: entrypoints>=0.2.2 in c:\\users\\user\\anaconda3\\lib\\site-packages (from nbconvert->notebook-as-pdf) (0.3)\n",
      "Requirement already satisfied: pygments in c:\\users\\user\\anaconda3\\lib\\site-packages (from nbconvert->notebook-as-pdf) (2.4.2)\n",
      "Requirement already satisfied: nbformat>=4.4 in c:\\users\\user\\anaconda3\\lib\\site-packages (from nbconvert->notebook-as-pdf) (4.4.0)\n",
      "Requirement already satisfied: jinja2>=2.4 in c:\\users\\user\\anaconda3\\lib\\site-packages (from nbconvert->notebook-as-pdf) (2.10.3)\n",
      "Requirement already satisfied: six in c:\\users\\user\\anaconda3\\lib\\site-packages (from traitlets>=4.2->nbconvert->notebook-as-pdf) (1.12.0)\n",
      "Requirement already satisfied: ipython-genutils in c:\\users\\user\\anaconda3\\lib\\site-packages (from traitlets>=4.2->nbconvert->notebook-as-pdf) (0.2.0)\n",
      "Requirement already satisfied: decorator in c:\\users\\user\\anaconda3\\lib\\site-packages (from traitlets>=4.2->nbconvert->notebook-as-pdf) (4.4.0)\n",
      "Requirement already satisfied: webencodings in c:\\users\\user\\anaconda3\\lib\\site-packages (from bleach->nbconvert->notebook-as-pdf) (0.5.1)\n",
      "Requirement already satisfied: jsonschema!=2.5.0,>=2.4 in c:\\users\\user\\anaconda3\\lib\\site-packages (from nbformat>=4.4->nbconvert->notebook-as-pdf) (3.0.2)\n",
      "Requirement already satisfied: MarkupSafe>=0.23 in c:\\users\\user\\anaconda3\\lib\\site-packages (from jinja2>=2.4->nbconvert->notebook-as-pdf) (1.1.1)\n",
      "Requirement already satisfied: pyrsistent>=0.14.0 in c:\\users\\user\\anaconda3\\lib\\site-packages (from jsonschema!=2.5.0,>=2.4->nbformat>=4.4->nbconvert->notebook-as-pdf) (0.15.4)\n",
      "Requirement already satisfied: setuptools in c:\\users\\user\\anaconda3\\lib\\site-packages (from jsonschema!=2.5.0,>=2.4->nbformat>=4.4->nbconvert->notebook-as-pdf) (41.4.0)\n",
      "Requirement already satisfied: attrs>=17.4.0 in c:\\users\\user\\anaconda3\\lib\\site-packages (from jsonschema!=2.5.0,>=2.4->nbformat>=4.4->nbconvert->notebook-as-pdf) (19.2.0)\n",
      "Note: you may need to restart the kernel to use updated packages.\n"
     ]
    }
   ],
   "source": [
    "pip install notebook-as-pdf"
   ]
  },
  {
   "cell_type": "code",
   "execution_count": null,
   "metadata": {},
   "outputs": [],
   "source": []
  }
 ],
 "metadata": {
  "accelerator": "TPU",
  "colab": {
   "collapsed_sections": [],
   "name": "#DSN20 Starter NoteBook.ipynb",
   "provenance": []
  },
  "kernelspec": {
   "display_name": "Python 3",
   "language": "python",
   "name": "python3"
  },
  "language_info": {
   "codemirror_mode": {
    "name": "ipython",
    "version": 3
   },
   "file_extension": ".py",
   "mimetype": "text/x-python",
   "name": "python",
   "nbconvert_exporter": "python",
   "pygments_lexer": "ipython3",
   "version": "3.7.4"
  }
 },
 "nbformat": 4,
 "nbformat_minor": 4
}
